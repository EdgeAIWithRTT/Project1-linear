{
 "cells": [
  {
   "cell_type": "markdown",
   "metadata": {},
   "source": [
    "> - 原创： lebhoryi@rt-thread.com\n",
    "> - 时间： 2020/06/30\n",
    "> - 内容： tensorflow2 实现线性回归:，二元一次方程，摘抄自网上，练手"
   ]
  },
  {
   "cell_type": "code",
   "execution_count": 110,
   "metadata": {},
   "outputs": [],
   "source": [
    "import tensorflow as tf\n",
    "import numpy as np\n",
    "import matplotlib.pyplot as plt\n",
    "from tensorflow.keras import *"
   ]
  },
  {
   "cell_type": "code",
   "execution_count": 204,
   "metadata": {},
   "outputs": [
    {
     "name": "stdout",
     "output_type": "stream",
     "text": [
      "(500, 2)\n",
      "(500,)\n"
     ]
    }
   ],
   "source": [
    "# prepare dataset\n",
    "NUM_INPUT = 2\n",
    "true_w, true_b, NUM_SAMPLES = [6., 2.], 20, 500\n",
    "train_x = tf.random.normal(shape=(NUM_SAMPLES, NUM_INPUT),).numpy()\n",
    "\n",
    "train_y = true_w[0] * train_x[:, 0] + true_w[1] * train_x[:, 1] + true_b\n",
    "train_y = train_y + tf.random.normal(shape=train_y.shape, stddev=0.01)\n",
    "\n",
    "print(train_x.shape)\n",
    "print(train_y.shape)"
   ]
  },
  {
   "cell_type": "code",
   "execution_count": 205,
   "metadata": {},
   "outputs": [
    {
     "data": {
      "image/png": "[encoded data removed]",
      "text/plain": [
       "<Figure size 432x288 with 1 Axes>"
      ]
     },
     "metadata": {
      "needs_background": "light"
     },
     "output_type": "display_data"
    }
   ],
   "source": [
    "# show train data\n",
    "# train_x, train_y = create_data(True)\n",
    "plt.plot(train_x, train_y, 'ro', label='O')\n",
    "plt.legend(loc='best', title='Original data')\n",
    "plt.xlabel('train_x')\n",
    "plt.ylabel('train_y')\n",
    "plt.show()"
   ]
  },
  {
   "cell_type": "code",
   "execution_count": 206,
   "metadata": {
    "scrolled": false
   },
   "outputs": [],
   "source": [
    "# plt.scatter(train_x, train_y, c='r')\n",
    "# plt.show()"
   ]
  },
  {
   "cell_type": "markdown",
   "metadata": {},
   "source": [
    "> 仅供学习之用，不参与到训练"
   ]
  },
  {
   "cell_type": "code",
   "execution_count": 207,
   "metadata": {},
   "outputs": [],
   "source": [
    "# read data\n",
    "from tensorflow.data import Dataset\n",
    "\n",
    "batch_size = 10\n",
    "\n",
    "# 将训练数据和标签组合\n",
    "dataset = Dataset.from_tensor_slices((train_x, train_y))\n",
    "dataset = dataset.shuffle(50).batch(batch_size)\n",
    "data_iter = iter(dataset)"
   ]
  },
  {
   "cell_type": "code",
   "execution_count": 216,
   "metadata": {},
   "outputs": [
    {
     "name": "stdout",
     "output_type": "stream",
     "text": [
      "Model: \"sequential\"\n",
      "_________________________________________________________________\n",
      "Layer (type)                 Output Shape              Param #   \n",
      "=================================================================\n",
      "dense (Dense)                (None, 1)                 3         \n",
      "=================================================================\n",
      "Total params: 3\n",
      "Trainable params: 3\n",
      "Non-trainable params: 0\n",
      "_________________________________________________________________\n"
     ]
    }
   ],
   "source": [
    "# create model, 1\n",
    "tf.keras.backend.clear_session()\n",
    "\n",
    "model = models.Sequential()\n",
    "\n",
    "model.add(layers.Dense(1, input_shape=(2,), activation='relu'))\n",
    "\n",
    "model.summary()"
   ]
  },
  {
   "cell_type": "code",
   "execution_count": 209,
   "metadata": {},
   "outputs": [],
   "source": [
    "from tensorflow import losses\n",
    "from tensorflow.keras import optimizers\n",
    "\n",
    "loss = losses.MeanSquaredError()\n",
    "trainer = optimizers.SGD(learning_rate=0.03)\n",
    "loss_history = []"
   ]
  },
  {
   "cell_type": "markdown",
   "metadata": {},
   "source": [
    "在使用keras训练模型时，我们通过调用model实例的fit函数来迭代模型。fit函数只需传入你的输入x和输出y，还有epoch遍历数据的次数，每次更新梯度的大小batch_size, 这里定义epoch=3，batch_size=10。 使用keras甚至完全不需要去划分数据集"
   ]
  },
  {
   "cell_type": "code",
   "execution_count": 210,
   "metadata": {},
   "outputs": [
    {
     "name": "stdout",
     "output_type": "stream",
     "text": [
      "epoch 1, loss: 0.864520\n",
      "epoch 2, loss: 0.001770\n",
      "epoch 3, loss: 0.000101\n",
      "epoch 4, loss: 0.000098\n",
      "epoch 5, loss: 0.000098\n",
      "epoch 6, loss: 0.000098\n",
      "epoch 7, loss: 0.000098\n",
      "epoch 8, loss: 0.000098\n",
      "epoch 9, loss: 0.000098\n",
      "epoch 10, loss: 0.000098\n"
     ]
    }
   ],
   "source": [
    "num_epochs = 10\n",
    "for epoch in range(1, num_epochs + 1):\n",
    "    for (batch, (x, y)) in enumerate(dataset):\n",
    "        with tf.GradientTape() as tape:\n",
    "            l = loss(model(x, training=True), y)\n",
    "        \n",
    "        loss_history.append(l.numpy().mean())\n",
    "        grads = tape.gradient(l, model.trainable_variables)\n",
    "        trainer.apply_gradients(zip(grads, model.trainable_variables))\n",
    "\n",
    "    l = loss(model(train_x), train_y)\n",
    "    print('epoch %d, loss: %f' % (epoch, l))"
   ]
  },
  {
   "cell_type": "code",
   "execution_count": 194,
   "metadata": {},
   "outputs": [
    {
     "data": {
      "text/plain": [
       "[array([[5.9997845],\n",
       "        [2.000696 ]], dtype=float32),\n",
       " array([15.300479], dtype=float32)]"
      ]
     },
     "execution_count": 194,
     "metadata": {},
     "output_type": "execute_result"
    }
   ],
   "source": [
    "# 输出学到的weights\n",
    "true_w, model.get_weights()[0]\n",
    "model.get_weights()"
   ]
  },
  {
   "cell_type": "code",
   "execution_count": 195,
   "metadata": {},
   "outputs": [
    {
     "data": {
      "text/plain": [
       "(15.3, array([15.300479], dtype=float32))"
      ]
     },
     "execution_count": 195,
     "metadata": {},
     "output_type": "execute_result"
    }
   ],
   "source": [
    "# 输出学到的biase\n",
    "true_b, model.get_weights()[1]"
   ]
  },
  {
   "cell_type": "code",
   "execution_count": 211,
   "metadata": {},
   "outputs": [],
   "source": [
    "# loss_history"
   ]
  },
  {
   "cell_type": "code",
   "execution_count": 99,
   "metadata": {},
   "outputs": [],
   "source": [
    "def loss_fn(model, x, y):\n",
    "    y_ = model(x)\n",
    "    return tf.reduce_mean(tf.square(y_ - y))"
   ]
  },
  {
   "cell_type": "code",
   "execution_count": 103,
   "metadata": {},
   "outputs": [
    {
     "name": "stdout",
     "output_type": "stream",
     "text": [
      "Epoch [0/10], loss [27.169], W/b [1.857/13.431]\n",
      "Epoch [1/10], loss [18.106], W/b [2.628/13.693]\n",
      "Epoch [2/10], loss [12.077], W/b [3.256/13.912]\n",
      "Epoch [3/10], loss [8.067], W/b [3.766/14.095]\n",
      "Epoch [4/10], loss [5.398], W/b [4.181/14.248]\n",
      "Epoch [5/10], loss [3.621], W/b [4.519/14.374]\n",
      "Epoch [6/10], loss [2.439], W/b [4.794/14.480]\n",
      "Epoch [7/10], loss [1.651], W/b [5.018/14.568]\n",
      "Epoch [8/10], loss [1.126], W/b [5.200/14.640]\n",
      "Epoch [9/10], loss [0.777], W/b [5.348/14.701]\n"
     ]
    }
   ],
   "source": [
    "EPOCHS = 10\n",
    "LEARNING_RATE = 0.1\n",
    "\n",
    "for epoch in range(EPOCHS):  # 迭代次数\n",
    "    with tf.GradientTape() as tape:  # 追踪梯度\n",
    "        loss = loss_fn(model, train_x, train_y)  # 计算损失\n",
    "    dW, db = tape.gradient(loss, [model.W, model.b])  # 计算梯度\n",
    "    model.W.assign_sub(LEARNING_RATE * dW)  # 更新梯度\n",
    "    model.b.assign_sub(LEARNING_RATE * db)\n",
    "    # 输出计算过程\n",
    "    print('Epoch [{}/{}], loss [{:.3f}], W/b [{:.3f}/{:.3f}]'.format(epoch, EPOCHS, loss,\n",
    "                                                                     float(model.W.numpy()),\n",
    "                                                                     float(model.b.numpy())))"
   ]
  },
  {
   "cell_type": "code",
   "execution_count": 201,
   "metadata": {},
   "outputs": [
    {
     "name": "stdout",
     "output_type": "stream",
     "text": [
      "31.3 [[31.301441]]\n"
     ]
    }
   ],
   "source": [
    "# 保存模型结构及权重\n",
    "model.save('keras_model.h5')\n",
    "y = 6 * 2 + 2 * 2 + 15.3\n",
    "print(y, model.predict([[2,2]]))"
   ]
  }
 ],
 "metadata": {
  "kernelspec": {
   "display_name": "tf2",
   "language": "python",
   "name": "tf2"
  },
  "language_info": {
   "codemirror_mode": {
    "name": "ipython",
    "version": 3
   },
   "file_extension": ".py",
   "mimetype": "text/x-python",
   "name": "python",
   "nbconvert_exporter": "python",
   "pygments_lexer": "ipython3",
   "version": "3.6.10"
  }
 },
 "nbformat": 4,
 "nbformat_minor": 4
}
